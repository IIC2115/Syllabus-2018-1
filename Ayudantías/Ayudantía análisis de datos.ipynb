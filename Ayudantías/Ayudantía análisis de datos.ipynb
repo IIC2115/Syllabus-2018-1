{
 "cells": [
  {
   "cell_type": "markdown",
   "metadata": {},
   "source": [
    "# Ayudantía: análisis de datos\n",
    "##### Por: Daniela Flores Villanueva"
   ]
  },
  {
   "cell_type": "code",
   "execution_count": null,
   "metadata": {},
   "outputs": [],
   "source": [
    "import pandas as pd\n",
    "import matplotlib.pyplot as plt\n",
    "import sklearn\n",
    "import datetime\n",
    "from sklearn import linear_model\n",
    "from sklearn import metrics\n",
    "%matplotlib inline\n",
    "%config InlineBackend.figure_format = 'retina'"
   ]
  },
  {
   "cell_type": "markdown",
   "metadata": {},
   "source": [
    "Los datos que utilizaremos en esta ayudantía corresponden al *data set* [Top Spotify Tracks of 2017](https://www.kaggle.com/nadintamer/top-tracks-of-2017), al que se le agregó la columna *listeners*, mediante consultas a la API de LastFM. En él, cada fila del archivo representa una canción, descrita por las *features* que se pueden encontrar [aquí](https://developer.spotify.com/documentation/web-api/reference/tracks/get-audio-features/)."
   ]
  },
  {
   "cell_type": "code",
   "execution_count": null,
   "metadata": {},
   "outputs": [],
   "source": [
    "top_tracks = pd.read_csv(\"top_tracks_2017.csv\")"
   ]
  },
  {
   "cell_type": "markdown",
   "metadata": {},
   "source": [
    "## Exploración de los datos"
   ]
  },
  {
   "cell_type": "markdown",
   "metadata": {},
   "source": [
    "Un primer acercamiento a los datos consiste en revisar cómo lucen:"
   ]
  },
  {
   "cell_type": "code",
   "execution_count": null,
   "metadata": {},
   "outputs": [],
   "source": [
    "top_tracks.head()"
   ]
  },
  {
   "cell_type": "code",
   "execution_count": null,
   "metadata": {},
   "outputs": [],
   "source": [
    "top_tracks.describe()"
   ]
  },
  {
   "cell_type": "markdown",
   "metadata": {},
   "source": [
    "¿Cuáles son las canciones top 10 según cantidad de oyentes?"
   ]
  },
  {
   "cell_type": "code",
   "execution_count": null,
   "metadata": {},
   "outputs": [],
   "source": [
    "top_tracks.sort_values(by=\"listeners\", ascending=False).head(10)"
   ]
  },
  {
   "cell_type": "markdown",
   "metadata": {},
   "source": [
    "Veamos si existen datos nulos:"
   ]
  },
  {
   "cell_type": "code",
   "execution_count": null,
   "metadata": {},
   "outputs": [],
   "source": [
    "top_tracks.apply(lambda x: sum(x.isnull()), axis=0)"
   ]
  },
  {
   "cell_type": "markdown",
   "metadata": {},
   "source": [
    "La siguiente consulta en `pandas` nos permite saber con facilidad cuál es la canción que tiene una cantidad inválida de oyentes."
   ]
  },
  {
   "cell_type": "code",
   "execution_count": null,
   "metadata": {},
   "outputs": [],
   "source": [
    "top_tracks[top_tracks[\"listeners\"].isnull()]"
   ]
  },
  {
   "cell_type": "markdown",
   "metadata": {},
   "source": [
    "Procedemos a eliminar esa fila."
   ]
  },
  {
   "cell_type": "code",
   "execution_count": null,
   "metadata": {},
   "outputs": [],
   "source": [
    "top_tracks.dropna(inplace=True)"
   ]
  },
  {
   "cell_type": "markdown",
   "metadata": {},
   "source": [
    "Ahora bien, ¿habrá alguna fila en el *data set* que contenga algún dato *sin sentido*? Para el caso particular de estos datos, esto se traduciría en una candidad de oyentes igual a 0."
   ]
  },
  {
   "cell_type": "code",
   "execution_count": null,
   "metadata": {},
   "outputs": [],
   "source": [
    "top_tracks[top_tracks[\"listeners\"] == 0]"
   ]
  },
  {
   "cell_type": "markdown",
   "metadata": {},
   "source": [
    "Eliminamos también esa fila, a través de la siguiente consulta:"
   ]
  },
  {
   "cell_type": "code",
   "execution_count": null,
   "metadata": {},
   "outputs": [],
   "source": [
    "top_tracks = top_tracks[top_tracks[\"listeners\"] != 0]"
   ]
  },
  {
   "cell_type": "markdown",
   "metadata": {},
   "source": [
    "¿Compartirán las canciones top algunas características? Averigüémoslo con los siguientes gráficos:"
   ]
  },
  {
   "cell_type": "code",
   "execution_count": null,
   "metadata": {},
   "outputs": [],
   "source": [
    "top_tracks[\"danceability\"].plot(kind=\"hist\", bins=5, edgecolor=\"black\", grid=False, title=\"Danceability histogram\")"
   ]
  },
  {
   "cell_type": "code",
   "execution_count": null,
   "metadata": {},
   "outputs": [],
   "source": [
    "top_tracks[\"energy\"].plot(kind=\"hist\", bins=5, edgecolor=\"black\", grid=False, title=\"Energy histogram\")"
   ]
  },
  {
   "cell_type": "code",
   "execution_count": null,
   "metadata": {},
   "outputs": [],
   "source": [
    "top_tracks[\"duration_ms\"].plot(kind=\"hist\", bins=5, edgecolor=\"black\", grid=False, title=\"Duration histogram\")"
   ]
  },
  {
   "cell_type": "markdown",
   "metadata": {},
   "source": [
    "¿Cuál es el intervalo de duración de la mayoría de las canciones en el top 100 2017? En un formato más humanamente legible:"
   ]
  },
  {
   "cell_type": "code",
   "execution_count": null,
   "metadata": {},
   "outputs": [],
   "source": [
    "print(datetime.timedelta(milliseconds=200000))\n",
    "print(datetime.timedelta(milliseconds=262500))"
   ]
  },
  {
   "cell_type": "code",
   "execution_count": null,
   "metadata": {},
   "outputs": [],
   "source": [
    "top_tracks[\"acousticness\"].plot(kind=\"hist\", bins=5, edgecolor=\"black\", grid=False, title=\"Acousticness histogram\")"
   ]
  },
  {
   "cell_type": "markdown",
   "metadata": {},
   "source": [
    "`pandas` nos permite revisar la correlación entre todas las variables del *data set*. Para esto, utilizaremos solo las columnas cuyos valores están entre 0 y 1 (de acuerdo a lo expuesto en la documentación de Spotify)."
   ]
  },
  {
   "cell_type": "code",
   "execution_count": null,
   "metadata": {},
   "outputs": [],
   "source": [
    "normalized_columns = [\"danceability\", \"energy\", \"speechiness\", \"acousticness\", \"instrumentalness\",\n",
    "                     \"liveness\", \"valence\"]"
   ]
  },
  {
   "cell_type": "markdown",
   "metadata": {},
   "source": [
    "La matriz de correlación es la siguiente:"
   ]
  },
  {
   "cell_type": "code",
   "execution_count": null,
   "metadata": {},
   "outputs": [],
   "source": [
    "top_tracks[normalized_columns].corr()"
   ]
  },
  {
   "cell_type": "markdown",
   "metadata": {},
   "source": [
    "En forma gráfica:"
   ]
  },
  {
   "cell_type": "code",
   "execution_count": null,
   "metadata": {},
   "outputs": [],
   "source": [
    "plt.matshow(top_tracks[normalized_columns].corr())\n",
    "plt.show()"
   ]
  },
  {
   "cell_type": "markdown",
   "metadata": {},
   "source": [
    "¿Cuáles serán las características más distintivas de las canciones top 2017?"
   ]
  },
  {
   "cell_type": "code",
   "execution_count": null,
   "metadata": {},
   "outputs": [],
   "source": [
    "top_tracks[normalized_columns].mean().plot(kind='bar')"
   ]
  },
  {
   "cell_type": "markdown",
   "metadata": {},
   "source": [
    "El gráfico nos permite concluir que las canciones más populares son bailables, energéticas y tienen una alta valencia."
   ]
  },
  {
   "cell_type": "markdown",
   "metadata": {},
   "source": [
    "# Regresión"
   ]
  },
  {
   "cell_type": "markdown",
   "metadata": {},
   "source": [
    "Ahora, introduciremos un *data set* correspondiente a algunas canciones escuchadas por cierta ayudante del curso. Estos datos fueron obtenidos gracias a [este *script*](https://github.com/juandes/spotify-audio-features-data-experiment/blob/master/get_data.py)."
   ]
  },
  {
   "cell_type": "code",
   "execution_count": null,
   "metadata": {},
   "outputs": [],
   "source": [
    "test_dataset = pd.read_csv(\"danielaflores777-1.csv\")\n",
    "test_dataset.head()"
   ]
  },
  {
   "cell_type": "markdown",
   "metadata": {},
   "source": [
    "Veamos las similitudes y diferencias entre ambos *data sets* en forma gráfica."
   ]
  },
  {
   "cell_type": "code",
   "execution_count": null,
   "metadata": {},
   "outputs": [],
   "source": [
    "plt.bar(normalized_columns, top_tracks[normalized_columns].mean(), color=\"#a4b8c4\")\n",
    "plt.bar(normalized_columns, test_dataset[normalized_columns].mean(), color=\"#0cca4a\", alpha= 0.5)\n",
    "plt.legend([\"top\", \"ayudante\"])\n",
    "plt.title(\"Comparación entre los data sets\")\n",
    "plt.xlabel(\"Audio feature\")\n",
    "plt.ylabel(\"Value\")\n",
    "plt.xticks(rotation='vertical')"
   ]
  },
  {
   "cell_type": "markdown",
   "metadata": {},
   "source": [
    "Intentemos ahora predecir la valencia de las canciones oídas por su ayudante a partir de la *danzabilidad*, mediante **regresión lineal**. Con este objetivo en mente, guardamos en `train_dataset` las filas de `top_tracks`, pero solo con las columnas normalizadas."
   ]
  },
  {
   "cell_type": "code",
   "execution_count": null,
   "metadata": {},
   "outputs": [],
   "source": [
    "train_dataset = top_tracks[normalized_columns]\n",
    "train_dataset.head()"
   ]
  },
  {
   "cell_type": "markdown",
   "metadata": {},
   "source": [
    "Ahora, en `X_train` dejaremos la variable explicativa (*danceability*) y en `y_train` el regresando (*valence*). Ocurrirá algo similar para el set de prueba."
   ]
  },
  {
   "cell_type": "code",
   "execution_count": null,
   "metadata": {},
   "outputs": [],
   "source": [
    "X_train = train_dataset[\"danceability\"].values.reshape(-1, 1)\n",
    "y_train = train_dataset[\"valence\"]\n",
    "X_test = test_dataset[\"danceability\"].values.reshape(-1, 1)\n",
    "y_test = test_dataset[\"valence\"]"
   ]
  },
  {
   "cell_type": "markdown",
   "metadata": {},
   "source": [
    "Procedemos a ajustar la regresión lineal."
   ]
  },
  {
   "cell_type": "code",
   "execution_count": null,
   "metadata": {},
   "outputs": [],
   "source": [
    "model = linear_model.LinearRegression()\n",
    "model.fit(X_train, y_train)\n",
    "predictions = model.predict(X_test)"
   ]
  },
  {
   "cell_type": "markdown",
   "metadata": {},
   "source": [
    "Veamos el desempeño de nuestro modelo a través del coeficiente de determinación ($R^2$)."
   ]
  },
  {
   "cell_type": "code",
   "execution_count": null,
   "metadata": {},
   "outputs": [],
   "source": [
    "model.score(X_test, y_test)"
   ]
  },
  {
   "cell_type": "markdown",
   "metadata": {},
   "source": [
    "De acuerdo a la [documentación](http://scikit-learn.org/stable/modules/generated/sklearn.linear_model.LinearRegression.html#sklearn.linear_model.LinearRegression.score):\n",
    "> The coefficient R^2 is defined as (1 - u/v), where u is the residual sum of squares ((y_true - y_pred) ^ 2).sum() and v is the total sum of squares ((y_true - y_true.mean()) ^ 2).sum(). The best possible score is 1.0 and it can be negative (because the model can be arbitrarily worse). A constant model that always predicts the expected value of y, disregarding the input features, would get a R^2 score of 0.0."
   ]
  },
  {
   "cell_type": "markdown",
   "metadata": {},
   "source": [
    "Grafiquemos los datos y la recta de regresión:"
   ]
  },
  {
   "cell_type": "code",
   "execution_count": null,
   "metadata": {},
   "outputs": [],
   "source": [
    "plt.scatter(X_test, y_test,  color='black')\n",
    "plt.plot(X_test, predictions, color='blue', linewidth=3)\n",
    "\n",
    "plt.xticks(())\n",
    "plt.yticks(())\n",
    "plt.title(\"Danceability and Valence\")\n",
    "plt.xlabel(\"Danceability\")\n",
    "plt.ylabel(\"Valence\")"
   ]
  },
  {
   "cell_type": "markdown",
   "metadata": {},
   "source": [
    "## Extra: breve análisis de los hábitos musicales de una persona real"
   ]
  },
  {
   "cell_type": "code",
   "execution_count": null,
   "metadata": {},
   "outputs": [],
   "source": [
    "dataframe = pd.read_csv(\"datos_reales_usuario.csv\")"
   ]
  },
  {
   "cell_type": "code",
   "execution_count": null,
   "metadata": {},
   "outputs": [],
   "source": [
    "dataframe.head()"
   ]
  },
  {
   "cell_type": "markdown",
   "metadata": {},
   "source": [
    "Convirtamos las fechas a nuestra zona horaria (sabemos de antemano que vive en Chile):"
   ]
  },
  {
   "cell_type": "code",
   "execution_count": null,
   "metadata": {},
   "outputs": [],
   "source": [
    "dataframe[\"Date\"] = pd.to_datetime(dataframe[\"Date\"])\n",
    "dataframe[\"Date\"] = dataframe[\"Date\"].dt.tz_localize('UTC').dt.tz_convert(\"Chile/Continental\")"
   ]
  },
  {
   "cell_type": "markdown",
   "metadata": {},
   "source": [
    "¿Cuáles son las 10 canciones más escuchadas?"
   ]
  },
  {
   "cell_type": "code",
   "execution_count": null,
   "metadata": {},
   "outputs": [],
   "source": [
    "top_10_songs = dataframe.groupby([\"Track\", \"Artist\"]).size().reset_index(name='counts')\n",
    "top_10_songs = top_10_songs.sort_values(by=\"counts\", ascending=False).iloc[0:10]\n",
    "top_10_songs"
   ]
  },
  {
   "cell_type": "markdown",
   "metadata": {},
   "source": [
    "¿Cuál es la evolución de la cantidad de canciones escuchadas por mes?"
   ]
  },
  {
   "cell_type": "code",
   "execution_count": null,
   "metadata": {},
   "outputs": [],
   "source": [
    "new = dataframe.set_index(\"Date\")[\"Track\"]\n",
    "new.index = pd.to_datetime(new.index)"
   ]
  },
  {
   "cell_type": "code",
   "execution_count": null,
   "metadata": {},
   "outputs": [],
   "source": [
    "months = new.resample(\"M\", convention=\"start\").count()\n",
    "months.plot()\n",
    "plt.title(\"Evolución de la cantidad de canciones escuchadas por mes\")\n",
    "plt.show()"
   ]
  },
  {
   "cell_type": "markdown",
   "metadata": {},
   "source": [
    "¿Cuáles son las horas más activas de este usuario?"
   ]
  },
  {
   "cell_type": "code",
   "execution_count": null,
   "metadata": {},
   "outputs": [],
   "source": [
    "hours = new.groupby(new.index.hour).count()\n",
    "hours = pd.DataFrame(hours)\n",
    "plt.bar(x=hours.index, height=hours[\"Track\"])\n",
    "plt.title(\"Canciones escuchadas según la hora\")\n",
    "plt.xticks(range(0,24))\n",
    "plt.show()"
   ]
  },
  {
   "cell_type": "code",
   "execution_count": null,
   "metadata": {},
   "outputs": [],
   "source": []
  }
 ],
 "metadata": {
  "kernelspec": {
   "display_name": "Python 3",
   "language": "python",
   "name": "python3"
  },
  "language_info": {
   "codemirror_mode": {
    "name": "ipython",
    "version": 3
   },
   "file_extension": ".py",
   "mimetype": "text/x-python",
   "name": "python",
   "nbconvert_exporter": "python",
   "pygments_lexer": "ipython3",
   "version": "3.6.4"
  }
 },
 "nbformat": 4,
 "nbformat_minor": 2
}
